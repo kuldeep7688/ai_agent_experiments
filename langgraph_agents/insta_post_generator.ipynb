{
 "cells": [
  {
   "cell_type": "markdown",
   "metadata": {},
   "source": [
    "## Instagrapm post Generator\n",
    "    - generates meme text with background \n",
    "    - refines\n",
    "    - checks safety and language\n",
    "    - ready to post"
   ]
  },
  {
   "cell_type": "markdown",
   "metadata": {},
   "source": []
  }
 ],
 "metadata": {
  "language_info": {
   "name": "python"
  }
 },
 "nbformat": 4,
 "nbformat_minor": 2
}
