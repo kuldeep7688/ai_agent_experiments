{
 "cells": [
  {
   "cell_type": "markdown",
   "metadata": {},
   "source": [
    "## Deep Researcher\n",
    "### Using Orchestrator And Synthesizer\n",
    "- given a topic creates a plan\n",
    "  - i.e. sections\n",
    "- for every section tools are available\n",
    "  - search arxiv\n",
    "  - search internet (tavilysearch)\n",
    "- summarizes information\n",
    "- checks if revision is required or more searches are required\n",
    "- creates final summary"
   ]
  },
  {
   "cell_type": "code",
   "execution_count": 1,
   "metadata": {},
   "outputs": [
    {
     "name": "stderr",
     "output_type": "stream",
     "text": [
      "/run/media/kuldeepsingh/Work/venv_environments/ai_agents_experiments/lib/python3.11/site-packages/tqdm/auto.py:21: TqdmWarning: IProgress not found. Please update jupyter and ipywidgets. See https://ipywidgets.readthedocs.io/en/stable/user_install.html\n",
      "  from .autonotebook import tqdm as notebook_tqdm\n"
     ]
    }
   ],
   "source": [
    "import os\n",
    "import re\n",
    "from dotenv import load_dotenv\n",
    "import operator\n",
    "\n",
    "from pydantic import BaseModel, Field\n",
    "from typing import List, Optional, Dict\n",
    "from typing_extensions import Annotated, Literal, TypedDict\n",
    "\n",
    "from langchain_openai import ChatOpenAI\n",
    "from langchain_groq import ChatGroq\n",
    "from langchain_google_genai import ChatGoogleGenerativeAI\n",
    "\n",
    "from langgraph.constants import Send\n",
    "from langgraph.types import interrupt, Command\n",
    "from langgraph.graph import StateGraph, START, END\n",
    "from langchain_core.messages import AIMessage, HumanMessage, ToolMessage, SystemMessage\n",
    "\n",
    "# tools\n",
    "from langchain_community.retrievers import WikipediaRetriever\n",
    "from langchain_community.tools.tavily_search import TavilySearchResults\n",
    "from langchain_google_community import GoogleSearchAPIWrapper\n",
    "from langchain_community.retrievers import ArxivRetriever\n",
    "\n",
    "\n",
    "\n",
    "from langgraph.checkpoint.memory import MemorySaver\n",
    "\n",
    "from IPython.display import display, Markdown, Image"
   ]
  },
  {
   "cell_type": "code",
   "execution_count": 2,
   "metadata": {},
   "outputs": [],
   "source": [
    "openai_llm = ChatOpenAI(\n",
    "    temperature=0,\n",
    "    model=\"gpt-4o-mini\",\n",
    "    max_tokens=500,\n",
    "    openai_api_key=os.environ[\"OPENAI_API_KEY\"],\n",
    ")\n",
    "\n",
    "# deepseek_llm = ChatGroq(\n",
    "#     temperature=0,\n",
    "#     model=\"deepseek-r1-distill-qwen-32b\",\n",
    "#     max_tokens=2048,\n",
    "#     groq_api_key=os.enviResearchWorkerStateron[\"GROQ_API_KEY\"],\n",
    "#     max_retries=3,\n",
    "# )\n",
    "\n",
    "\n",
    "# google_llm = ChatGoogleGenerativeAI(\n",
    "#     temperature=0,\n",
    "#     model=\"gemini-1.5-flash\",\n",
    "#     max_output_tokens=1024,\n",
    "#     google_api_key=os.environ[\"GOOGLE_API_KEY\"],\n",
    "# )\n",
    "\n",
    "\n",
    "class TopicList(BaseModel):\n",
    "    topics: List[str] = Field(\n",
    "        description=\"List of topics which will be helpful in understanding. Must not be more than three topics.\",\n",
    "    )\n",
    "\n",
    "topic_identifying_llm = ChatGoogleGenerativeAI(\n",
    "    temperature=0,\n",
    "    model=\"gemini-1.5-flash\",\n",
    "    max_output_tokens=1024,\n",
    "    google_api_key=os.environ[\"GOOGLE_API_KEY\"],\n",
    ").with_structured_output(TopicList)\n",
    "\n",
    "\n",
    "class Section(BaseModel):\n",
    "    title: str = Field(\n",
    "        description=\"Title of the section\",\n",
    "    )\n",
    "    content: str = Field(\n",
    "        description=\"Content of the section\",\n",
    "    )\n",
    "    sources: List[str] = Field(\n",
    "        description=\"List of sources for the section like urls links.\",\n",
    "    )\n",
    "\n",
    "section_writer_llm = openai_llm.with_structured_output(Section)"
   ]
  },
  {
   "cell_type": "code",
   "execution_count": 3,
   "metadata": {},
   "outputs": [],
   "source": [
    "topic = \"Singh\"\n",
    "\n",
    "# use wikipedia retriever\n",
    "wikipedia_retriever = WikipediaRetriever(\n",
    "    top_k_results=3\n",
    ")\n",
    "\n",
    "# wiki_results = wikipedia_retriever.invoke(f\"{topic}\")"
   ]
  },
  {
   "cell_type": "code",
   "execution_count": 6,
   "metadata": {},
   "outputs": [],
   "source": [
    "topic = \"Large Language Models\"\n",
    "\n",
    "# use tavily search\n",
    "search_tavily = TavilySearchResults(\n",
    "    api_key=os.environ[\"TAVILY_API_KEY\"],\n",
    "    max_results=2\n",
    ")\n",
    "# tavily_search_results = search_tavily.invoke(f\"{topic}\")\n",
    "# len(tavily_search_results)\n",
    "# tavily_search_results"
   ]
  },
  {
   "cell_type": "code",
   "execution_count": 7,
   "metadata": {},
   "outputs": [],
   "source": [
    "# using arxiv retriever\n",
    "arxiv_retriever = ArxivRetriever(\n",
    "    load_max_docs=2\n",
    ")\n",
    "\n",
    "# arxiv_results = arxiv_retriever.invoke(f\"{topic}\")\n",
    "# len(arxiv_results)"
   ]
  },
  {
   "cell_type": "code",
   "execution_count": 8,
   "metadata": {},
   "outputs": [],
   "source": [
    "def preprocess_long_text(text):\n",
    "    \"\"\"Preprocess long text by removing newlines and tabs.\"\"\"\n",
    "    # Remove newlines and tabs\n",
    "    text = re.sub(r'[\\n\\t]+', ' ', text)\n",
    "    \n",
    "    # Truncate to 1000 characters\n",
    "    if len(text) > 1000:\n",
    "        text = text[:1000]\n",
    "    \n",
    "    return text"
   ]
  },
  {
   "cell_type": "code",
   "execution_count": 37,
   "metadata": {},
   "outputs": [],
   "source": [
    "class SearchGraphState(TypedDict):\n",
    "    \"\"\"State for the Research Worker agent.\"\"\"\n",
    "    topic: str\n",
    "    of_section: str\n",
    "    search_query: str\n",
    "    current_section: str\n",
    "    search_results: Annotated[list, operator.add]"
   ]
  },
  {
   "cell_type": "code",
   "execution_count": 39,
   "metadata": {},
   "outputs": [],
   "source": [
    "def create_search_query(state: SearchGraphState):\n",
    "    \"\"\"Create a search query for the topic.\"\"\"\n",
    "    print(state)\n",
    "    return {\n",
    "        \"search_query\": f\"{state['topic']} in {state['of_section']}\"\n",
    "    }\n",
    "\n",
    "def tavily_search(state:SearchGraphState):\n",
    "    \"\"\"Search Tavily for the topic.\"\"\"\n",
    "    search_results = search_tavily.invoke(state[\"search_query\"])\n",
    "    formatted_results = []\n",
    "    for result in search_results:\n",
    "        formatted_results.append(\n",
    "            {   \"search_query\": state[\"search_query\"],\n",
    "                \"title\": \"\",\n",
    "                \"source\": result[\"url\"],\n",
    "                \"content\": preprocess_long_text(result[\"content\"])\n",
    "            }\n",
    "        )\n",
    "    return {\n",
    "        \"search_results\": formatted_results\n",
    "    }\n",
    "\n",
    "def arxiv_search(state:SearchGraphState):\n",
    "    \"\"\"Search Arxiv for the topic.\"\"\"\n",
    "    search_results = arxiv_retriever.invoke(state[\"search_query\"])\n",
    "    \n",
    "    formatted_results = []\n",
    "    for result in search_results:\n",
    "        formatted_results.append(\n",
    "            {   \"search_query\": state[\"search_query\"],\n",
    "                \"title\": result.metadata[\"Title\"],\n",
    "                \"source\": result.metadata[\"Entry ID\"],\n",
    "                \"content\": preprocess_long_text(result.page_content)\n",
    "            }\n",
    "        )\n",
    "    return {\n",
    "        \"search_results\": formatted_results\n",
    "    }\n",
    "    \n",
    "def wikipedia_search(state:SearchGraphState):\n",
    "    \"\"\"Search Wikipedia for the topic.\"\"\"\n",
    "    search_results = wikipedia_retriever.invoke(state[\"search_query\"])\n",
    "    \n",
    "    formatted_results = []\n",
    "    for result in search_results:\n",
    "        formatted_results.append(\n",
    "            {   \"search_query\": state[\"search_query\"],\n",
    "                \"title\": result.metadata[\"title\"],\n",
    "                \"source\": result.metadata[\"source\"],\n",
    "                \"content\": preprocess_long_text(result.metadata[\"summary\"])\n",
    "            }\n",
    "        )\n",
    "        \n",
    "    return {\n",
    "        \"search_results\": formatted_results\n",
    "    }"
   ]
  },
  {
   "cell_type": "code",
   "execution_count": 40,
   "metadata": {},
   "outputs": [
    {
     "data": {
      "image/png": "[encoded data removed]",
      "text/plain": [
       "<IPython.core.display.Image object>"
      ]
     },
     "metadata": {},
     "output_type": "display_data"
    }
   ],
   "source": [
    "search_graph_builder = StateGraph(SearchGraphState)\n",
    "search_graph_builder.add_node(\"create_search_query\", create_search_query)\n",
    "search_graph_builder.add_node(\"tavily_search\", tavily_search)\n",
    "search_graph_builder.add_node(\"arxiv_search\", arxiv_search)\n",
    "search_graph_builder.add_node(\"wikipedia_search\", wikipedia_search)\n",
    "\n",
    "search_graph_builder.add_edge(\n",
    "    START, \"create_search_query\"\n",
    ")\n",
    "\n",
    "search_graph_builder.add_edge(\n",
    "    \"create_search_query\", \"tavily_search\"\n",
    ")\n",
    "search_graph_builder.add_edge(\n",
    "    \"create_search_query\", \"arxiv_search\"\n",
    ")\n",
    "search_graph_builder.add_edge(\n",
    "    \"create_search_query\", \"wikipedia_search\"\n",
    ")\n",
    "search_graph_builder.add_edge(\n",
    "    [\"tavily_search\", \"arxiv_search\", \"wikipedia_search\"], END\n",
    ")\n",
    "search_graph = search_graph_builder.compile()\n",
    "display(Image(search_graph.get_graph().draw_mermaid_png()))"
   ]
  },
  {
   "cell_type": "code",
   "execution_count": 44,
   "metadata": {},
   "outputs": [],
   "source": [
    "# input_search_state = {\n",
    "#     \"topic\": 'Model Architectures',\n",
    "#     \"of_section\": \"Introduction to Large Language Models\"\n",
    "# }\n",
    "# out = search_graph.invoke(input_search_state)"
   ]
  },
  {
   "cell_type": "code",
   "execution_count": 45,
   "metadata": {},
   "outputs": [],
   "source": [
    "# out"
   ]
  },
  {
   "cell_type": "code",
   "execution_count": null,
   "metadata": {},
   "outputs": [],
   "source": [
    "class ResearcherState(TypedDict):\n",
    "    \"\"\"State for the Researcher agent.\"\"\"\n",
    "    section: str\n",
    "    section_overview: str\n",
    "    topics_of_section: list\n",
    "    compiled_section: Section\n",
    "    search_results: Annotated[list, operator.add]\n"
   ]
  },
  {
   "cell_type": "code",
   "execution_count": 58,
   "metadata": {},
   "outputs": [],
   "source": [
    "def get_important_topics(state: ResearcherState):\n",
    "    \"\"\"Get important topics from the research worker.\"\"\"\n",
    "    out = topic_identifying_llm.invoke(\n",
    "        [\n",
    "            SystemMessage(content=\"Given a section title and overview. Identify the topics which will be helpful in understanding the section. The topics must be less than 3 and must be relevant to the section.\"),\n",
    "            HumanMessage(content=f\"Section: {state['section']}\\nSection Overview: {state['section_overview']}\"),\n",
    "        ]\n",
    "    )\n",
    "    print(out.topics)\n",
    "    return {\n",
    "        \"topics_of_section\": out.topics\n",
    "    }\n",
    "\n",
    "\n",
    "\n",
    "def assign_search_workers(state: ResearcherState):\n",
    "    \"\"\"Assign search workers to the topics.\"\"\"\n",
    "    return [\n",
    "        Send(\"execute_search_graph\", {\"topic\": topic, \"of_section\": state[\"section\"]}) for topic in state[\"topics_of_section\"]\n",
    "    ]\n",
    "\n",
    "\n",
    "def section_writer(state: ResearcherState):\n",
    "    \"\"\"Synthesize the section.\"\"\"\n",
    "    out = section_writer_llm.invoke(\n",
    "        [\n",
    "            SystemMessage(content=\"You are a research assistant. You will be given a section title and overview. You will be given search results, filter them and select the useful ones to write the content of the section.\"),\n",
    "            HumanMessage(content=f\"Section: {state['section']}\\nSection Overview: {state['section_overview']}\\n  Search Results: {state['search_results']}\"),\n",
    "        ]\n",
    "    )\n",
    "    return {\n",
    "        \"compiled_section\": out\n",
    "    }"
   ]
  },
  {
   "cell_type": "code",
   "execution_count": 59,
   "metadata": {},
   "outputs": [
    {
     "data": {
      "image/png": "[encoded data removed]",
      "text/plain": [
       "<IPython.core.display.Image object>"
      ]
     },
     "metadata": {},
     "output_type": "display_data"
    }
   ],
   "source": [
    "graph_builder = StateGraph(ResearcherState)\n",
    "\n",
    "graph_builder.add_node(\"get_important_topics\", get_important_topics)\n",
    "graph_builder.add_node(\"execute_search_graph\", search_graph_builder.compile())\n",
    "graph_builder.add_node(\"section_writer\", section_writer)\n",
    "\n",
    "graph_builder.add_edge(START, \"get_important_topics\")\n",
    "graph_builder.add_conditional_edges(\n",
    "    \"get_important_topics\", assign_search_workers, [\"execute_search_graph\"]\n",
    ")\n",
    "graph_builder.add_edge(\"execute_search_graph\", \"section_writer\")\n",
    "graph_builder.add_edge(\"section_writer\", END)\n",
    "\n",
    "# memory = MemorySaver()\n",
    "\n",
    "graph = graph_builder.compile()\n",
    "display(Image(graph.get_graph().draw_mermaid_png()))"
   ]
  },
  {
   "cell_type": "code",
   "execution_count": 60,
   "metadata": {},
   "outputs": [
    {
     "name": "stdout",
     "output_type": "stream",
     "text": [
      "['Model Architectures', 'Applications of LLMs', 'Basic Concepts of LLMs']\n",
      "{'topic': 'Model Architectures', 'of_section': 'Introduction to Large Language Models', 'search_results': []}\n",
      "{'topic': 'Applications of LLMs', 'of_section': 'Introduction to Large Language Models', 'search_results': []}\n",
      "{'topic': 'Basic Concepts of LLMs', 'of_section': 'Introduction to Large Language Models', 'search_results': []}\n"
     ]
    }
   ],
   "source": [
    "config = {\"configurable\": {\"thread_id\": \"1\"}}\n",
    "\n",
    "input_researcher_state = {\n",
    "    \"section\": \"Introduction to Large Language Models\",\n",
    "    \"section_overview\": \"This section will cover the basics of large language models, their architecture, and their applications.\",\n",
    "}\n",
    "\n",
    "out = graph.invoke(input_researcher_state, config=config)"
   ]
  },
  {
   "cell_type": "code",
   "execution_count": 61,
   "metadata": {},
   "outputs": [
    {
     "name": "stdout",
     "output_type": "stream",
     "text": [
      "Introduction to Large Language Models\n",
      "Large Language Models (LLMs) are a transformative class of artificial intelligence designed to understand and generate human-like text. They are built on advanced architectures, primarily the Transformer model, which utilizes attention mechanisms to process and generate language efficiently. LLMs are characterized by their vast number of parameters and extensive training on diverse datasets, enabling them to perform a wide range of language-based tasks, including text generation, summarization, translation, and question answering.\n",
      "\n",
      "The architecture of LLMs can be categorized into several types: encoder-only models (like BERT), decoder-only models (like GPT), and encoder-decoder models (like T5). Each architecture serves different purposes, with encoder-only models focusing on understanding and contextualizing input text, while decoder-only models are adept at generating coherent and contextually relevant text outputs.\n",
      "\n",
      "LLMs are trained using self-supervised learning techniques, which allow them to learn from vast amounts of unlabeled text data. This training process equips them with the ability to predict the next word in a sequence, thereby generating human-like responses to prompts. However, the deployment of these models often faces challenges due to their significant computational and memory requirements, prompting research into model compression and efficient inference methods.\n",
      "\n",
      "The applications of LLMs are vast and varied, ranging from enhancing natural language understanding in chatbots to executing complex algorithms described in natural language. As LLMs continue to evolve, they raise important questions about interpretability, fairness, and their implications for human cognition and society.\n"
     ]
    }
   ],
   "source": [
    "print(out[\"compiled_section\"].title)\n",
    "print(out[\"compiled_section\"].content)"
   ]
  },
  {
   "cell_type": "code",
   "execution_count": 62,
   "metadata": {},
   "outputs": [
    {
     "data": {
      "text/plain": [
       "['https://whylabs.ai/learning-center/introduction-to-llms/understanding-large-language-model-architectures',\n",
       " 'https://developers.google.com/machine-learning/resources/intro-llms',\n",
       " 'https://en.wikipedia.org/wiki/Large_language_model']"
      ]
     },
     "execution_count": 62,
     "metadata": {},
     "output_type": "execute_result"
    }
   ],
   "source": [
    "out[\"compiled_section\"].sources"
   ]
  },
  {
   "cell_type": "code",
   "execution_count": null,
   "metadata": {},
   "outputs": [],
   "source": []
  }
 ],
 "metadata": {
  "kernelspec": {
   "display_name": "ai_agents_experiments",
   "language": "python",
   "name": "python3"
  },
  "language_info": {
   "codemirror_mode": {
    "name": "ipython",
    "version": 3
   },
   "file_extension": ".py",
   "mimetype": "text/x-python",
   "name": "python",
   "nbconvert_exporter": "python",
   "pygments_lexer": "ipython3",
   "version": "3.11.5"
  }
 },
 "nbformat": 4,
 "nbformat_minor": 2
}
