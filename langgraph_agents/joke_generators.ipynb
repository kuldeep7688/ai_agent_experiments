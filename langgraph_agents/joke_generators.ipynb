{
 "cells": [
  {
   "cell_type": "markdown",
   "metadata": {},
   "source": [
    "## Joke Generator with Review"
   ]
  },
  {
   "cell_type": "code",
   "execution_count": 80,
   "metadata": {},
   "outputs": [],
   "source": [
    "import os\n",
    "from dotenv import load_dotenv\n",
    "\n",
    "from typing_extensions import TypedDict\n",
    "\n",
    "from langgraph.graph import StateGraph, START, END\n",
    "from langgraph.types import interrupt, Command\n",
    "\n",
    "from langgraph.checkpoint.memory import MemorySaver\n",
    "\n",
    "from langchain_openai import ChatOpenAI\n",
    "\n",
    "\n",
    "from IPython.display import display, Markdown, Image"
   ]
  },
  {
   "cell_type": "code",
   "execution_count": 3,
   "metadata": {},
   "outputs": [
    {
     "data": {
      "text/plain": [
       "True"
      ]
     },
     "execution_count": 3,
     "metadata": {},
     "output_type": "execute_result"
    }
   ],
   "source": [
    "load_dotenv(\"../.env\")"
   ]
  },
  {
   "cell_type": "markdown",
   "metadata": {},
   "source": [
    "## 1. Joke Generator with Review\n",
    "    - takes in a topic and generates a joke\n",
    "    - revises the joke twice\n",
    "    - Asks human for final review"
   ]
  },
  {
   "cell_type": "code",
   "execution_count": 4,
   "metadata": {},
   "outputs": [],
   "source": [
    "llm = ChatOpenAI(\n",
    "    temperature=0,\n",
    "    model=\"gpt-4o-mini\",\n",
    "    max_tokens=500,\n",
    "    openai_api_key=os.environ[\"OPENAI_API_KEY\"],\n",
    ")"
   ]
  },
  {
   "cell_type": "code",
   "execution_count": 44,
   "metadata": {},
   "outputs": [],
   "source": [
    "class State(TypedDict):\n",
    "    topic: str\n",
    "    joke: str\n",
    "    num_revisions: int"
   ]
  },
  {
   "cell_type": "code",
   "execution_count": 48,
   "metadata": {},
   "outputs": [],
   "source": [
    "def check_num_revisions(state: State):\n",
    "    if state[\"num_revisions\"] > 1:\n",
    "        return \"revision_limit_reached\"\n",
    "    return \"revise\"\n",
    "\n",
    "\n",
    "def generate_or_revise_joke(state: State):\n",
    "    if state[\"num_revisions\"] == 0:\n",
    "        return {\n",
    "            \"joke\": llm.invoke(\n",
    "                f\"Write a joke about {state['topic']} with a set up and punchline.\"\n",
    "            ),\n",
    "            \"num_revisions\": state[\"num_revisions\"] + 1\n",
    "        }\n",
    "    else:\n",
    "        return {\n",
    "            \"joke\": llm.invoke(\n",
    "                f\"Revise the joke: {state['joke']}. Refine and make it edgier.\"\n",
    "            ),\n",
    "            \"num_revisions\": state[\"num_revisions\"] + 1\n",
    "        }\n",
    "        \n",
    "        \n",
    "graph_builder = StateGraph(State)\n",
    "graph_builder.add_node(\"generate_or_revise_joke\", generate_or_revise_joke)\n",
    "\n",
    "graph_builder.add_edge(START, \"generate_or_revise_joke\")\n",
    "graph_builder.add_conditional_edges(\n",
    "    \"generate_or_revise_joke\",\n",
    "    check_num_revisions,\n",
    "    {\"revise\": \"generate_or_revise_joke\", \"revision_limit_reached\": END}\n",
    ")\n",
    "\n",
    "graph = graph_builder.compile()"
   ]
  },
  {
   "cell_type": "code",
   "execution_count": 49,
   "metadata": {},
   "outputs": [
    {
     "data": {
      "image/png": "[encoded data removed]",
      "text/plain": [
       "<IPython.core.display.Image object>"
      ]
     },
     "metadata": {},
     "output_type": "display_data"
    }
   ],
   "source": [
    "display(Image(graph.get_graph().draw_mermaid_png()))"
   ]
  },
  {
   "cell_type": "code",
   "execution_count": 50,
   "metadata": {},
   "outputs": [
    {
     "name": "stdout",
     "output_type": "stream",
     "text": [
      "==================================\u001b[1m Ai Message \u001b[0m==================================\n",
      "\n",
      "Why did the politically correct scarecrow win an award?\n",
      "\n",
      "Because he was outstanding in his field of sensitivity!\n",
      "==================================\u001b[1m Ai Message \u001b[0m==================================\n",
      "\n",
      "Why did the politically correct scarecrow get an award?\n",
      "\n",
      "Because he was truly outstanding in his field—of avoiding all the crows!\n"
     ]
    }
   ],
   "source": [
    "topic = \"political correctness\"\n",
    "\n",
    "events = graph.stream(\n",
    "    {\"topic\": topic, \"num_revisions\": 0},\n",
    "    config = {\"configurable\": {\"thread_id\": \"1\"}},\n",
    "    stream_mode=\"values\",\n",
    ")\n",
    "for event in events:\n",
    "    if \"joke\" in event:\n",
    "        event[\"joke\"].pretty_print()"
   ]
  },
  {
   "cell_type": "markdown",
   "metadata": {},
   "source": [
    "## Joke Generator\n",
    "\n",
    "- suggests topics \n",
    "- takes human selected topic\n",
    "- generates a jokes \n",
    "- asks human approval\n",
    "  - approval : End\n",
    "  - suggestion : takes in suggestion and revise"
   ]
  },
  {
   "cell_type": "code",
   "execution_count": 51,
   "metadata": {},
   "outputs": [],
   "source": [
    "llm = ChatOpenAI(\n",
    "    temperature=0,\n",
    "    model=\"gpt-4o-mini\",\n",
    "    max_tokens=500,\n",
    "    openai_api_key=os.environ[\"OPENAI_API_KEY\"],\n",
    ")"
   ]
  },
  {
   "cell_type": "code",
   "execution_count": 142,
   "metadata": {},
   "outputs": [],
   "source": [
    "class State(TypedDict):\n",
    "    topic_list: list[str]\n",
    "    topic: str\n",
    "    approval: str\n",
    "    current_joke: str\n",
    "    final_joke: str"
   ]
  },
  {
   "cell_type": "code",
   "execution_count": 165,
   "metadata": {},
   "outputs": [],
   "source": [
    "def generate_topics(state: State):\n",
    "    return {\n",
    "        \"topic_list\": llm.invoke(\n",
    "            \"Generate a list of 5 topics for a joke that can lead to a hilarious joke.\"\n",
    "        )\n",
    "    }\n",
    "\n",
    "def generate_or_revise_joke(state: State):\n",
    "    if \"approval\" not in state:\n",
    "        return {\n",
    "            \"current_joke\": llm.invoke(\n",
    "                f\"Write a joke about {state['topic']} with a set up and punchline.\"\n",
    "            ).content\n",
    "        }\n",
    "    else:\n",
    "        return {\n",
    "            \"current_joke\": llm.invoke(\n",
    "                f\"Revise the joke: {state['current_joke']}. Refine and make it edgier.\"\n",
    "            ).content,\n",
    "        }\n",
    "    \n",
    "def human_topic_selection(state: State):\n",
    "    value = interrupt(\n",
    "        f\"Please choose a topic from the following list: {state['topic_list']}. Or suggest some other topic.\",\n",
    "    )\n",
    "    return {\"topic\": value}\n",
    "\n",
    "\n",
    "def human_joke_approval(state: State):\n",
    "    value = interrupt(f\"Please approve the joke: {state['current_joke']}. Reply with yes or no.\")\n",
    "    return {\"approval\": value}\n",
    "\n",
    "\n",
    "def check_human_joke_approval(state: State):\n",
    "    if state[\"approval\"].lower() == \"yes\":\n",
    "        return \"joke_approved\"\n",
    "    return \"revise\"\n",
    "\n",
    "def finalize_joke(state: State):\n",
    "    return {\"final_joke\": state[\"current_joke\"]}"
   ]
  },
  {
   "cell_type": "code",
   "execution_count": 166,
   "metadata": {},
   "outputs": [
    {
     "data": {
      "image/png": "[encoded data removed]",
      "text/plain": [
       "<IPython.core.display.Image object>"
      ]
     },
     "metadata": {},
     "output_type": "display_data"
    }
   ],
   "source": [
    "graph_builder = StateGraph(State)\n",
    "graph_builder.add_node(\"generate_topics\", generate_topics)\n",
    "graph_builder.add_node(\"human_topic_selection\", human_topic_selection)\n",
    "graph_builder.add_node(\"generate_or_revise_joke\", generate_or_revise_joke)\n",
    "graph_builder.add_node(\"human_joke_approval\", human_joke_approval)\n",
    "graph_builder.add_node(\"finalize_joke\", finalize_joke)\n",
    "\n",
    "graph_builder.add_edge(START, \"generate_topics\")\n",
    "graph_builder.add_edge(\"generate_topics\", \"human_topic_selection\")\n",
    "graph_builder.add_edge(\"human_topic_selection\", \"generate_or_revise_joke\")\n",
    "graph_builder.add_edge(\"generate_or_revise_joke\", \"human_joke_approval\")\n",
    "graph_builder.add_conditional_edges(\n",
    "    \"human_joke_approval\",\n",
    "    check_human_joke_approval,\n",
    "    {\"joke_approved\": \"finalize_joke\", \"revise\": \"generate_or_revise_joke\"}\n",
    ")\n",
    "graph_builder.add_edge(\"finalize_joke\", END)\n",
    "\n",
    "memory = MemorySaver()\n",
    "\n",
    "graph = graph_builder.compile(checkpointer=memory)\n",
    "display(Image(graph.get_graph().draw_mermaid_png()))"
   ]
  },
  {
   "cell_type": "code",
   "execution_count": 167,
   "metadata": {},
   "outputs": [],
   "source": [
    "config = {\"configurable\": {\"thread_id\": \"1\"}}"
   ]
  },
  {
   "cell_type": "code",
   "execution_count": 168,
   "metadata": {},
   "outputs": [],
   "source": [
    "# events = graph.stream(\n",
    "#     {\"topic_list\": []},\n",
    "#     config=config,\n",
    "#     stream_mode=\"values\",\n",
    "# )\n",
    "# keys = [\"joke\", \"topic\", \"approval\", \"topic_list\"]\n",
    "# for event in events:\n",
    "#     for key in keys:\n",
    "#         if key in event:\n",
    "#             try:\n",
    "#                 event[key].pretty_print()\n",
    "#             except:\n",
    "#                 print(f\"{key}: {event[key]}\")\n",
    "\n",
    "\n",
    "# human_response = \"Technology fails.\"\n",
    "\n",
    "# human_command = Command(resume=human_response)\n",
    "\n",
    "# events = graph.stream(human_command, config, stream_mode=\"values\")\n",
    "\n",
    "# keys = [\"topic_list\", \"topic\", \"approval\", \"joke\"]\n",
    "# for event in events:\n",
    "#     for key in keys:\n",
    "#         if key in event:\n",
    "#             try:\n",
    "#                 event[key].pretty_print()\n",
    "#             except:\n",
    "#                 print(f\"{key}: {event[key]}\")\n",
    "                \n",
    "# human_response = \"Yes\"\n",
    "\n",
    "# human_command = Command(resume=human_response)\n",
    "\n",
    "# events = graph.stream(human_command, config, stream_mode=\"values\")\n",
    "\n",
    "# keys = [\"topic_list\", \"topic\",\"joke\", \"approval\"]\n",
    "# for event in events:\n",
    "#     for key in keys:\n",
    "#         if key in event:\n",
    "#             try:\n",
    "#                 event[key].pretty_print()\n",
    "#             except:\n",
    "#                 print(f\"{key}: {event[key]}\")"
   ]
  },
  {
   "cell_type": "code",
   "execution_count": 169,
   "metadata": {},
   "outputs": [
    {
     "name": "stdout",
     "output_type": "stream",
     "text": [
      "dict_keys(['topic_list'])\n",
      "{'topic_list': AIMessage(content='Sure! Here are five topics that can lead to some hilarious jokes:\\n\\n1. **Cats vs. Dogs** - The classic rivalry between pet personalities and their antics.\\n2. **Technology Fails** - The humorous side of gadgets and apps that don’t work as intended.\\n3. **Cooking Disasters** - The funny mishaps that happen in the kitchen when trying to follow a recipe.\\n4. **Awkward First Dates** - The cringe-worthy moments that can happen when meeting someone new.\\n5. **Office Life** - The quirks and absurdities of working in a corporate environment.\\n\\nFeel free to pick one, and I can help you craft a joke!', additional_kwargs={'refusal': None}, response_metadata={'token_usage': {'completion_tokens': 137, 'prompt_tokens': 25, 'total_tokens': 162, 'completion_tokens_details': {'accepted_prediction_tokens': 0, 'audio_tokens': 0, 'reasoning_tokens': 0, 'rejected_prediction_tokens': 0}, 'prompt_tokens_details': {'audio_tokens': 0, 'cached_tokens': 0}}, 'model_name': 'gpt-4o-mini-2024-07-18', 'system_fingerprint': 'fp_709714d124', 'finish_reason': 'stop', 'logprobs': None}, id='run-81d51ade-dab1-4bbc-9120-864b7080de5e-0', usage_metadata={'input_tokens': 25, 'output_tokens': 137, 'total_tokens': 162, 'input_token_details': {'audio': 0, 'cache_read': 0}, 'output_token_details': {'audio': 0, 'reasoning': 0}})}\n"
     ]
    }
   ],
   "source": [
    "result = graph.invoke({\"topic_list\": []},config=config,)\n",
    "print(result.keys())\n",
    "print(result)"
   ]
  },
  {
   "cell_type": "code",
   "execution_count": 170,
   "metadata": {},
   "outputs": [
    {
     "data": {
      "text/plain": [
       "{'topic_list': AIMessage(content='Sure! Here are five topics that can lead to some hilarious jokes:\\n\\n1. **Cats vs. Dogs** - The classic rivalry between pet personalities and their antics.\\n2. **Technology Fails** - The humorous side of gadgets and apps that don’t work as intended.\\n3. **Cooking Disasters** - The funny mishaps that happen in the kitchen when trying to follow a recipe.\\n4. **Awkward First Dates** - The cringe-worthy moments that can happen when meeting someone new.\\n5. **Office Life** - The quirks and absurdities of working in a corporate environment.\\n\\nFeel free to pick one, and I can help you craft a joke!', additional_kwargs={'refusal': None}, response_metadata={'token_usage': {'completion_tokens': 137, 'prompt_tokens': 25, 'total_tokens': 162, 'completion_tokens_details': {'accepted_prediction_tokens': 0, 'audio_tokens': 0, 'reasoning_tokens': 0, 'rejected_prediction_tokens': 0}, 'prompt_tokens_details': {'audio_tokens': 0, 'cached_tokens': 0}}, 'model_name': 'gpt-4o-mini-2024-07-18', 'system_fingerprint': 'fp_709714d124', 'finish_reason': 'stop', 'logprobs': None}, id='run-81d51ade-dab1-4bbc-9120-864b7080de5e-0', usage_metadata={'input_tokens': 25, 'output_tokens': 137, 'total_tokens': 162, 'input_token_details': {'audio': 0, 'cache_read': 0}, 'output_token_details': {'audio': 0, 'reasoning': 0}}),\n",
       " 'topic': 'Technology Fails',\n",
       " 'current_joke': 'Why did the smartphone go to therapy?\\n\\nBecause it couldn\\'t stop comparing itself to all the other \"smart\" devices and felt like a total failure!'}"
      ]
     },
     "execution_count": 170,
     "metadata": {},
     "output_type": "execute_result"
    }
   ],
   "source": [
    "result = graph.invoke(Command(resume=\"Technology Fails\"), config=config,)\n",
    "result"
   ]
  },
  {
   "cell_type": "code",
   "execution_count": 171,
   "metadata": {},
   "outputs": [
    {
     "data": {
      "text/plain": [
       "{'topic_list': AIMessage(content='Sure! Here are five topics that can lead to some hilarious jokes:\\n\\n1. **Cats vs. Dogs** - The classic rivalry between pet personalities and their antics.\\n2. **Technology Fails** - The humorous side of gadgets and apps that don’t work as intended.\\n3. **Cooking Disasters** - The funny mishaps that happen in the kitchen when trying to follow a recipe.\\n4. **Awkward First Dates** - The cringe-worthy moments that can happen when meeting someone new.\\n5. **Office Life** - The quirks and absurdities of working in a corporate environment.\\n\\nFeel free to pick one, and I can help you craft a joke!', additional_kwargs={'refusal': None}, response_metadata={'token_usage': {'completion_tokens': 137, 'prompt_tokens': 25, 'total_tokens': 162, 'completion_tokens_details': {'accepted_prediction_tokens': 0, 'audio_tokens': 0, 'reasoning_tokens': 0, 'rejected_prediction_tokens': 0}, 'prompt_tokens_details': {'audio_tokens': 0, 'cached_tokens': 0}}, 'model_name': 'gpt-4o-mini-2024-07-18', 'system_fingerprint': 'fp_709714d124', 'finish_reason': 'stop', 'logprobs': None}, id='run-81d51ade-dab1-4bbc-9120-864b7080de5e-0', usage_metadata={'input_tokens': 25, 'output_tokens': 137, 'total_tokens': 162, 'input_token_details': {'audio': 0, 'cache_read': 0}, 'output_token_details': {'audio': 0, 'reasoning': 0}}),\n",
       " 'topic': 'Technology Fails',\n",
       " 'approval': 'No',\n",
       " 'current_joke': \"Why did the smartphone go to therapy? \\n\\nBecause it was tired of scrolling through everyone else's perfect lives and realized it was just a glorified calculator with anxiety!\"}"
      ]
     },
     "execution_count": 171,
     "metadata": {},
     "output_type": "execute_result"
    }
   ],
   "source": [
    "result = graph.invoke(Command(resume=\"No\"), config=config,)\n",
    "result"
   ]
  },
  {
   "cell_type": "code",
   "execution_count": 172,
   "metadata": {},
   "outputs": [
    {
     "data": {
      "text/plain": [
       "{'topic_list': AIMessage(content='Sure! Here are five topics that can lead to some hilarious jokes:\\n\\n1. **Cats vs. Dogs** - The classic rivalry between pet personalities and their antics.\\n2. **Technology Fails** - The humorous side of gadgets and apps that don’t work as intended.\\n3. **Cooking Disasters** - The funny mishaps that happen in the kitchen when trying to follow a recipe.\\n4. **Awkward First Dates** - The cringe-worthy moments that can happen when meeting someone new.\\n5. **Office Life** - The quirks and absurdities of working in a corporate environment.\\n\\nFeel free to pick one, and I can help you craft a joke!', additional_kwargs={'refusal': None}, response_metadata={'token_usage': {'completion_tokens': 137, 'prompt_tokens': 25, 'total_tokens': 162, 'completion_tokens_details': {'accepted_prediction_tokens': 0, 'audio_tokens': 0, 'reasoning_tokens': 0, 'rejected_prediction_tokens': 0}, 'prompt_tokens_details': {'audio_tokens': 0, 'cached_tokens': 0}}, 'model_name': 'gpt-4o-mini-2024-07-18', 'system_fingerprint': 'fp_709714d124', 'finish_reason': 'stop', 'logprobs': None}, id='run-81d51ade-dab1-4bbc-9120-864b7080de5e-0', usage_metadata={'input_tokens': 25, 'output_tokens': 137, 'total_tokens': 162, 'input_token_details': {'audio': 0, 'cache_read': 0}, 'output_token_details': {'audio': 0, 'reasoning': 0}}),\n",
       " 'topic': 'Technology Fails',\n",
       " 'approval': 'Yes',\n",
       " 'current_joke': \"Why did the smartphone go to therapy? \\n\\nBecause it was tired of scrolling through everyone else's perfect lives and realized it was just a glorified calculator with anxiety!\",\n",
       " 'final_joke': \"Why did the smartphone go to therapy? \\n\\nBecause it was tired of scrolling through everyone else's perfect lives and realized it was just a glorified calculator with anxiety!\"}"
      ]
     },
     "execution_count": 172,
     "metadata": {},
     "output_type": "execute_result"
    }
   ],
   "source": [
    "result = graph.invoke(Command(resume=\"Yes\"), config=config,)\n",
    "result"
   ]
  },
  {
   "cell_type": "markdown",
   "metadata": {},
   "source": [
    "## 3. Joke with help of search engine\n",
    "- search internet for hot topics or news controversies\n",
    "- selects 5 topics \n",
    "- generates 5 jokes (simultaneously)\n",
    "- checks every joke for norms\n",
    "- compares jokes\n",
    "- gives the final joke"
   ]
  },
  {
   "cell_type": "markdown",
   "metadata": {},
   "source": []
  },
  {
   "cell_type": "code",
   "execution_count": null,
   "metadata": {},
   "outputs": [],
   "source": []
  }
 ],
 "metadata": {
  "kernelspec": {
   "display_name": "ai_agents_experiments",
   "language": "python",
   "name": "python3"
  },
  "language_info": {
   "codemirror_mode": {
    "name": "ipython",
    "version": 3
   },
   "file_extension": ".py",
   "mimetype": "text/x-python",
   "name": "python",
   "nbconvert_exporter": "python",
   "pygments_lexer": "ipython3",
   "version": "3.11.5"
  }
 },
 "nbformat": 4,
 "nbformat_minor": 2
}
