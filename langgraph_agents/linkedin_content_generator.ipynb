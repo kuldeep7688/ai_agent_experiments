{
 "cells": [
  {
   "cell_type": "markdown",
   "metadata": {},
   "source": [
    "## LinkedIn Post Generator\n",
    "    - searches internet for latest tech innovations\n",
    "    - Identified candidates \n",
    "    - gets some context on them from internet search \n",
    "    - Writes a exciting and insightful post for LinkedIn\n",
    "      - Checks for safety and language\n",
    "      - Refines untill AI is confident it will get views\n",
    "  "
   ]
  },
  {
   "cell_type": "markdown",
   "metadata": {},
   "source": []
  }
 ],
 "metadata": {
  "language_info": {
   "name": "python"
  }
 },
 "nbformat": 4,
 "nbformat_minor": 2
}
