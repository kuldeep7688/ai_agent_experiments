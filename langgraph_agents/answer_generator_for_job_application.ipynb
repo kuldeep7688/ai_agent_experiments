{
 "cells": [
  {
   "cell_type": "markdown",
   "metadata": {},
   "source": [
    "## Answer generator for Job Applications\n",
    "\n",
    "- Takes in resume and cover letter\n",
    "- Will answer any question that is asked in the job applications.\n",
    "- Will write the answer as you."
   ]
  },
  {
   "cell_type": "code",
   "execution_count": null,
   "metadata": {},
   "outputs": [],
   "source": []
  }
 ],
 "metadata": {
  "kernelspec": {
   "display_name": "ai_agents_experiments",
   "language": "python",
   "name": "python3"
  },
  "language_info": {
   "name": "python",
   "version": "3.11.5"
  }
 },
 "nbformat": 4,
 "nbformat_minor": 2
}
