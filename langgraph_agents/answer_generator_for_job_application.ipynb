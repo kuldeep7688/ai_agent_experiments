{
 "cells": [
  {
   "cell_type": "markdown",
   "metadata": {},
   "source": [
    "## Answer generator for Job Applications\n",
    "\n",
    "- Takes in resume and cover letter\n",
    "- Will answer any question that is asked in the job applications.\n",
    "- Will write the answer as you."
   ]
  },
  {
   "cell_type": "code",
   "execution_count": 25,
   "metadata": {},
   "outputs": [],
   "source": [
    "import os\n",
    "from dotenv import load_dotenv\n",
    "from datetime import datetime\n",
    "\n",
    "from langchain_groq import ChatGroq\n",
    "\n",
    "from typing_extensions import TypedDict\n",
    "from typing import Optional, List, Annotated\n",
    "from pydantic import BaseModel, Field\n",
    "\n",
    "from langgraph.types import interrupt, Command\n",
    "from langgraph.graph import StateGraph, START, END\n",
    "\n",
    "from langgraph.checkpoint.memory import MemorySaver\n",
    "\n",
    "from IPython.display import display, Markdown, Image"
   ]
  },
  {
   "cell_type": "code",
   "execution_count": 12,
   "metadata": {},
   "outputs": [
    {
     "data": {
      "text/plain": [
       "True"
      ]
     },
     "execution_count": 12,
     "metadata": {},
     "output_type": "execute_result"
    }
   ],
   "source": [
    "load_dotenv(\"../.env\")"
   ]
  },
  {
   "cell_type": "code",
   "execution_count": 41,
   "metadata": {},
   "outputs": [],
   "source": [
    "RESUME = \"\"\"\n",
    "Kuldeep Singh\n",
    " +1 (517)-297-4615 | singhku2@msu.edu | https://www.linkedin.com/in/kuldeep-singh-064a40118 | https://kuldeep7688.github.io/ | https://github.com/kuldeep7688 \n",
    "EXPERIENCE\n",
    "AI Engineer\n",
    " 08/2024 - Present\n",
    "BYO\n",
    " New York, NY\n",
    "◦ Built RAG Agents using LangChain and Ollama with configurable word and topic guardrails, and tunable\n",
    "contextual grounding and relevance scoring for controlled and accurate responses.\n",
    "◦ Developed LLM instruction-tuning pipelines, with Dagster, AWS S3, SQS, DynamoDB and Torchserve.\n",
    "◦ Implemented Continual Instruction Tuning methods based on SFT and PEFT techniques using Deepspeed\n",
    "AI Consultant\n",
    " 04/2024 - 08/2024\n",
    "•\n",
    "Department of Family Medicine, MSU\n",
    " East Lansing, MI\n",
    "◦ Developed RAG agents using AWS Bedrock, OpenSearch, Titan embedding model and Claude Sonnet\n",
    "with guardrails and advanced contextual grounding techniques to enhance response control and accuracy.\n",
    "◦ Built LLM Workflows using LangGraph for information extraction.\n",
    "◦ Developed a scalable ML model backend using FastAPI and Docker containers.\n",
    "◦ Designed information extraction methods using OpenAI api, function calling and Pydantic data models.\n",
    "AI Research Associate Intern\n",
    " 06/2023 - 08/2023\n",
    "•\n",
    "JP Morgan & Chase\n",
    " New York City, NY\n",
    "◦ Developed a financial question answering system using Large Language Models (LLMs), designed\n",
    "negative sampling method based on clustering with hybrid embedding methods.\n",
    "◦ Improving the retrieval model’s R@3 metric by 2.4% on test set leading to SOTA results on FinQA dataset.\n",
    "◦ Implemented Chain of Thought, self consistency and self prompting with GPT-4, Llama2 and PaLM.\n",
    "◦ Experimented with LangChain, LLamaIndex and ChromaDB for deploying RAG pipeline.\n",
    "NLP Engineer\n",
    "01/2021 - 07/2022\n",
    "•\n",
    "ConcertAI Pvt. Ltd.\n",
    " Bengaluru, India\n",
    "◦ Developed information extraction models using Spacy and Huggingface for Electronic Health Records.\n",
    "◦ Integrated Weak Supervision techniques, like Skweak and Snorkel, to proliferate training data for\n",
    "information extraction models; improved the results by 7.5% F1 Score site-of-mets extraction.\n",
    "◦ Streamlined and automated annotation tasks using active learning with Prodigy recipes, improving data\n",
    "labeling efficiency and consistency.\n",
    "◦ Automated the Sentiment Analysis pipeline using AWS Comprehend, Lambda, S3 and AWS Textract.\n",
    "Data Scientist\n",
    " 08/2017 - 01/2021\n",
    "•\n",
    "Innoplexus Consulting Services Pvt. Ltd\n",
    " Pune, India\n",
    "◦ Developed extractive Question Answering pipeline using SPECTER, FAISS using FastAPI in Python.\n",
    "◦ Boosted the NER model by 5% F1 per entity and Relation Classification model by 4.2% Micro F1.\n",
    "◦ Developed BERT and LSTM models for NER, Sentiment Analysis and Topic Extraction using Pytorch.\n",
    "◦ Built NLP Training and Inference pipelines using AWS StepFunctions, EventBridge, S3, Batch and SNS.\n",
    "◦ Developed LSTM Coreference Resolution model and BertTopic based Topic Extraction using PyTorch.\n",
    "◦ Designed and automated a scalable webpage classification pipeline using PySpark, AWS EMR, S3,\n",
    "EventBridge, Lambda for weekly data processing and classification.\n",
    "E DUCATION\n",
    "Michigan State University\n",
    "•\n",
    "Master of Science in Data Science — GPA : 4.00/4.00\n",
    "Indian Institute of Technology Roorkee\n",
    "•\n",
    "Bachelor of Technology in Civil Engineering — GPA : 3.26/4.00\n",
    "East Lansing, Michigan\n",
    "August. 2022 – April 2024\n",
    "Roorkee, Uttarakhand\n",
    "July. 2013 – May. 2017\n",
    "P ROJECTS AND C OMPETITIONS\n",
    "• Predicting Funding Flows in Public and Private Markets (September, 2023) (Github): Predicting funding\n",
    "trends in different research areas using a temporal graph with data integrated from Publications, Patents,\n",
    "and Investments. | BertTopic, WikiData, OpenAlex, Neo4j, S2AFF, S2AND\n",
    "• Financial Entity Relationship Classification App (Jan, 2024) (Github): Built an application for extracting\n",
    "and classifying relationships between entities in financial texts using LangChain, advanced prompting\n",
    "techniques, LLMs and Streamlit. | Streamlit, OpenAI, Pydantic, Function Calling\n",
    "P UBLICATIONS AND P REPRINTS\n",
    "• Kuldeep Singh, Simerjot Kaur, Charese Smiley, FinQAPT: Empowering Financial Decisions with\n",
    "End-to-End LLM-driven Question Answering Pipeline, 5th ACM ICAIF 2024, NY, NY.\n",
    "• Maryam Berijanian, Spencer Dork, Kuldeep Singh, Soft Measures for Extracting Causal Collective\n",
    "Intelligence, NLP4Science Workshop, EMNLP 2024, Miami, Florida.\n",
    "• K Singh, Saketh Anne, NLP Driven Political Analysis of Subreddits, 3rd International Conference on Data\n",
    "Intelligence and Cognitive Informatics, Tirunelveli, India\n",
    "• K Singh, P Singla, K Sarode, A Chandrakar and C Nichkawde, Uncovering the Corona Virus Map Using\n",
    "Deep Entities and Relationship Models, preprint arXiv:2009.03068.\n",
    "C ERTIFICATIONS\n",
    "◦ AWS AI Practitioner, AWS Cloud Technical Essentials, Machine Learning Engineering for Production\n",
    "\"\"\"\n",
    "\n",
    "COVER_LETTER = \"\"\"Kuldeep Singh\n",
    "www.linkedin.com/in/kuldeep-singh-064a40118 | 5172974615 | singhku2@msu.edu\n",
    "https://kuldeep7688.github.io/\n",
    "\n",
    "{todays_date}\n",
    "ML/AI Hiring Committee, \n",
    "{company_name} \n",
    "\n",
    "Dear Hiring Manager,\n",
    "I am excited to apply for the {job_description} position at {company_name}. With a strong background in natural language processing (NLP), large language models (LLMs), and scalable ML pipelines, I am eager to contribute to your team by building and optimizing AI-driven solutions.\n",
    "In my current role as an AI Engineer at BYO, I have developed LLM instruction-tuning pipelines using Dagster, AWS S3, SQS, DynamoDB, and TorchServe, enabling efficient continual fine-tuning. Additionally, I have built retrieval-augmented generation (RAG) agents using LangChain and Ollama, incorporating configurable word and topic guardrails to ensure controlled and accurate responses. My experience extends to optimizing LLMs with PEFT techniques like LoRA and DeepSpeed, improving both model performance and efficiency.\n",
    "Previously, as an AI Research Intern at JP Morgan, I developed a financial question-answering system using LLMs, experimenting with LangChain, LlamaIndex, and ChromaDB to enhance retrieval and response quality. I also applied self-consistency prompting, Chain of Thought, and hybrid embedding methods to refine model accuracy in high-stakes financial applications.\n",
    "Beyond research, I have extensive experience in deploying scalable ML pipelines using FastAPI, Docker, AWS SageMaker, and AWS Batch. I have also designed automated NLP training workflows leveraging AWS Step Functions, EventBridge, and SNS to ensure reliable and scalable model inference.\n",
    "I am especially interested in this opportunity because of {company_name}'s dedication to utilizing AI to drive innovation and make a positive impact. and I am eager to bring my expertise in LLMs, scalable ML engineering, and model optimization to your team. I look forward to the opportunity to discuss how my skills align with your needs.\n",
    "Thank you for your time and consideration. I look forward to hearing from you.\n",
    "\n",
    "Sincerely,\n",
    "Kuldeep Singh\n",
    "\"\"\""
   ]
  },
  {
   "cell_type": "code",
   "execution_count": 42,
   "metadata": {},
   "outputs": [
    {
     "data": {
      "text/plain": [
       "'February 22, 2025'"
      ]
     },
     "execution_count": 42,
     "metadata": {},
     "output_type": "execute_result"
    }
   ],
   "source": [
    "def get_todays_date() -> str:\n",
    "    \"\"\"Get today's date in human-readable format.\"\"\"    \n",
    "    # Get today's date in human-readable format\n",
    "    today_date = datetime.now().strftime(\"%B %d, %Y\")\n",
    "    return today_date\n",
    "get_todays_date()"
   ]
  },
  {
   "cell_type": "code",
   "execution_count": 43,
   "metadata": {},
   "outputs": [],
   "source": [
    "llm = ChatGroq(\n",
    "    model=\"llama-3.1-8b-instant\",\n",
    "    temperature=0.5,\n",
    "    max_tokens=2048,\n",
    "    max_retries=3,\n",
    "    timeout=60,\n",
    ")"
   ]
  },
  {
   "cell_type": "code",
   "execution_count": 44,
   "metadata": {},
   "outputs": [],
   "source": [
    "class Answer(BaseModel):\n",
    "    \"\"\"Answer to a question.\"\"\"\n",
    "    answer: str = Field(..., description=\"The answer to the question.\")\n",
    "    sources: Optional[List[str]] = Field(None, description=\"Sources for the answer.\")\n",
    "\n",
    "llm_for_answering = llm.with_structured_output(Answer)"
   ]
  },
  {
   "cell_type": "code",
   "execution_count": 45,
   "metadata": {},
   "outputs": [],
   "source": [
    "class State(TypedDict):\n",
    "    \"\"\"State of the graph.\"\"\"\n",
    "    resume: str\n",
    "    cover_letter: str\n",
    "    todays_date: str\n",
    "    job_description: str\n",
    "    job_title: str\n",
    "    company_name: str\n",
    "    question: str\n",
    "    answer: str"
   ]
  },
  {
   "cell_type": "code",
   "execution_count": 46,
   "metadata": {},
   "outputs": [],
   "source": [
    "def get_answer(state: State):\n",
    "    \"\"\"Get the answer from the LLM.\"\"\"\n",
    "    # Get the answer from the LLM\n",
    "    output = llm_for_answering.invoke(\n",
    "        f\"Given the \\nresume: {state['resume']}\\ncover letter: {state['cover_letter']}\\ntodays date: {state['todays_date']}.\\n I am applying for a with details\\njob description: {state['job_description']}\\njob title: {state['job_title']}\\ncompany name: {state['company_name']}\\n Please use only the details in the resume and cover letter to answer the question and provide references. Do not use any other information. Do not fabricate anything.\\n\\nquestion: {state['question']}\"\"\"\n",
    "    )\n",
    "    answer = output.answer\n",
    "    sources = output.sources\n",
    "    return {\n",
    "        \"answer\": answer, \"sources\": sources\n",
    "    }"
   ]
  },
  {
   "cell_type": "code",
   "execution_count": 47,
   "metadata": {},
   "outputs": [
    {
     "data": {
      "image/png": "[encoded data removed]",
      "text/plain": [
       "<IPython.core.display.Image object>"
      ]
     },
     "metadata": {},
     "output_type": "display_data"
    }
   ],
   "source": [
    "graph_builder = StateGraph(State)\n",
    "graph_builder.add_node(\"get_answer\", get_answer)\n",
    "\n",
    "graph_builder.add_edge(START, \"get_answer\")\n",
    "graph_builder.add_edge(\"get_answer\", END)\n",
    "\n",
    "memory = MemorySaver()\n",
    "graph = graph_builder.compile(checkpointer=memory)\n",
    "\n",
    "display(Image(graph.get_graph().draw_mermaid_png()))"
   ]
  },
  {
   "cell_type": "code",
   "execution_count": 48,
   "metadata": {},
   "outputs": [],
   "source": [
    "question = \"How would you fit in this role?\"\n",
    "job_description = \"We are looking for a Senior Machine Learning Engineer to join our team. The ideal candidate will have a strong background in natural language processing (NLP), large language models (LLMs), and scalable ML pipelines. You will be responsible for building and optimizing AI-driven solutions that enhance our products and services.\"\n",
    "job_title = \"Machine Learning Engineer\"\n",
    "company_name = \"AiThon Pvt. Ltd.\""
   ]
  },
  {
   "cell_type": "code",
   "execution_count": 49,
   "metadata": {},
   "outputs": [],
   "source": [
    "input_state = {\n",
    "    \"resume\": RESUME,\n",
    "    \"cover_letter\": COVER_LETTER,\n",
    "    \"todays_date\": get_todays_date(),\n",
    "    \"job_description\": \"\",\n",
    "    \"job_title\": \"\",\n",
    "    \"company_name\": \"\",\n",
    "    \"question\": question,\n",
    "    \"answer\": \"\",\n",
    "    \"sources\": \"\"\n",
    "}\n",
    "config = {\"configurable\": {\"thread_id\": \"1\"}}\n",
    "\n",
    "output = graph.invoke(\n",
    "    input_state,\n",
    "    config=config,\n",
    ")"
   ]
  },
  {
   "cell_type": "code",
   "execution_count": 50,
   "metadata": {},
   "outputs": [
    {
     "name": "stdout",
     "output_type": "stream",
     "text": [
      "With a strong background in natural language processing (NLP), large language models (LLMs), and scalable ML pipelines, I am eager to contribute to your team by building and optimizing AI-driven solutions. I have developed LLM instruction-tuning pipelines using Dagster, AWS S3, SQS, DynamoDB, and TorchServe, and built retrieval-augmented generation (RAG) agents using LangChain and Ollama. My experience extends to optimizing LLMs with PEFT techniques like LoRA and DeepSpeed, improving both model performance and efficiency.\n"
     ]
    }
   ],
   "source": [
    "print(output[\"answer\"])"
   ]
  },
  {
   "cell_type": "code",
   "execution_count": 51,
   "metadata": {},
   "outputs": [
    {
     "name": "stdout",
     "output_type": "stream",
     "text": [
      "None\n"
     ]
    }
   ],
   "source": [
    "print(output[\"sources\"])"
   ]
  },
  {
   "cell_type": "code",
   "execution_count": null,
   "metadata": {},
   "outputs": [],
   "source": []
  }
 ],
 "metadata": {
  "kernelspec": {
   "display_name": "ai_agents_experiments",
   "language": "python",
   "name": "python3"
  },
  "language_info": {
   "codemirror_mode": {
    "name": "ipython",
    "version": 3
   },
   "file_extension": ".py",
   "mimetype": "text/x-python",
   "name": "python",
   "nbconvert_exporter": "python",
   "pygments_lexer": "ipython3",
   "version": "3.11.5"
  }
 },
 "nbformat": 4,
 "nbformat_minor": 2
}
